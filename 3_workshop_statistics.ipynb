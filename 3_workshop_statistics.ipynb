{
  "nbformat": 4,
  "nbformat_minor": 0,
  "metadata": {
    "colab": {
      "provenance": []
    },
    "kernelspec": {
      "name": "python3",
      "display_name": "Python 3"
    },
    "language_info": {
      "name": "python"
    }
  },
  "cells": [
    {
      "cell_type": "markdown",
      "source": [
        "###Today, we will:\n",
        "\n",
        "1. Understanding Statistics in Data Science\n",
        "2. Calculating and Explaining Mean, Mode, Median, variance, and standard deviation and other statistical measures\n",
        "3. Examples of Statistical Measures"
      ],
      "metadata": {
        "id": "3Np5zm0GQluT"
      }
    },
    {
      "cell_type": "markdown",
      "source": [
        "Statistics in data science involves the collection, analysis, interpretation, and presentation of data. It provides the foundational tools and techniques to extract meaningful insights and make informed decisions from data. In data science, statistics are used to:\n",
        "\n",
        "- Describe Data: Summarize the characteristics and properties of datasets.\n",
        "- Make Predictions: Utilize data to forecast trends and outcomes.\n",
        "- Validate Models: Assess the performance and accuracy of machine learning models.\n",
        "- Inform Decision Making: Support business strategies and actions based on data-driven insights."
      ],
      "metadata": {
        "id": "jmR3BVQkZkbU"
      }
    },
    {
      "cell_type": "markdown",
      "source": [
        "## Overview of the statistics Module in Python\n",
        "\n",
        "In Python, the `statistics` module is part of the standard library and provides functions to perform basic statistical operations on numerical data. Here's an overview of what the `statistics` package includes and its purpose:"
      ],
      "metadata": {
        "id": "YVwHfirOdx_N"
      }
    },
    {
      "cell_type": "markdown",
      "source": [
        "# Purpose of the statistics Module\n",
        "\n",
        "The `statistics` module is designed to facilitate statistical computations and analysis in Python programs. It offers a set of functions that are essential for analyzing data distributions, making data-driven decisions, and performing statistical calculations in various domains, including data science, research, finance, and more.\n",
        "\n",
        "# Functions Provided by the statistics Module\n",
        "\n",
        "The `statistics` module includes functions for calculating common statistical measures:\n",
        "\n",
        "- **mean**: Calculates the arithmetic mean (average) of data.\n",
        "-**harmonic mean**: Calculates the harmonic (averaging rates/ratios). E.g. for speed, 60m/h\n",
        "- **median**: Computes the median (middle value) of data.\n",
        "- **mode**: Finds the mode (most common value) in data.\n",
        "- **variance**: Computes the variance of a sample (sample is A subset of the population used to gather data and make inferences about the population. Where population is the whole group you are interested in studying or learning about).\n",
        "- **stdev**: Computes the standard deviation of a sample."
      ],
      "metadata": {
        "id": "2tRtUq07etQw"
      }
    },
    {
      "cell_type": "markdown",
      "source": [
        "##Examples"
      ],
      "metadata": {
        "id": "yZyCbINtfJrU"
      }
    },
    {
      "cell_type": "code",
      "source": [
        "# Importing necessary functions from the statistics module\n",
        "from statistics import mean,harmonic_mean, median, mode, variance, stdev\n",
        "\n",
        "# Example age data\n",
        "age_data = [10, 15, 12, 15, 20, 18, 15, 12, 10]\n",
        "\n",
        "# Calculating mean (average age)\n",
        "mean_age = mean(age_data)\n",
        "\n",
        "#Calculating harmonic mean\n",
        "h_mean_age = harmonic_mean(age_data)\n",
        "\n",
        "# Calculating median (middle age)\n",
        "median_age = median(age_data)\n",
        "\n",
        "# Calculating mode (most common age)\n",
        "mode_age = mode(age_data)\n",
        "\n",
        "# Calculating variance\n",
        "variance_value = variance(age_data)\n",
        "\n",
        "# Calculating standard deviation\n",
        "stdev_value = stdev(age_data)\n",
        "\n",
        "# Calculating sum of all values\n",
        "sum_value = sum(age_data)\n",
        "\n",
        "# Finding minimum value in data\n",
        "min_value = min(age_data)\n",
        "\n",
        "# Finding maximum value in data\n",
        "max_value = max(age_data)\n",
        "\n",
        "# Printing results with explanations\n",
        "print(\"Data:\", age_data)\n",
        "print(\"--------------------------------------\")\n",
        "print(\"Mean (Average):\", mean_age)           # Print the mean (average) of data\n",
        "print(\"Harmonic Mean:\",h_mean_age)           # Print the mean (average) of data\n",
        "print(\"Median:\", median_age)                 # Print the median (middle value) of data\n",
        "print(\"Mode:\", mode_age)                     # Print the mode (most common value) of data\n",
        "print(\"Variance:\", variance_value)           # Print the variance of data\n",
        "print(\"Standard Deviation:\", stdev_value)    # Print the standard deviation of data\n",
        "print(\"Sum of all ages:\", sum_value)         # Print the sum of all values in data\n",
        "print(\"Minimum age:\", min_value)             # Print the minimum value in data\n",
        "print(\"Maximum age:\", max_value)             # Print the maximum value in data"
      ],
      "metadata": {
        "id": "hJSccKwWgERQ",
        "colab": {
          "base_uri": "https://localhost:8080/"
        },
        "outputId": "c8630b8f-bcb9-4d08-8188-fbf5226af2fe"
      },
      "execution_count": null,
      "outputs": [
        {
          "output_type": "stream",
          "name": "stdout",
          "text": [
            "Data: [10, 15, 12, 15, 20, 18, 15, 12, 10]\n",
            "--------------------------------------\n",
            "Mean (Average): 14.11111111111111\n",
            "Harmonic Mean: 13.388429752066116\n",
            "Median: 15\n",
            "Mode: 15\n",
            "Variance: 11.86111111111111\n",
            "Standard Deviation: 3.4439963866286374\n",
            "Sum of all ages: 127\n",
            "Minimum age: 10\n",
            "Maximum age: 20\n"
          ]
        }
      ]
    },
    {
      "cell_type": "markdown",
      "source": [
        "##Exercise"
      ],
      "metadata": {
        "id": "Q9yBcri3iLMl"
      }
    },
    {
      "cell_type": "code",
      "source": [
        "# Task 1: Import necessary functions from the statistics module\n",
        "from statistics import mean, median, mode, variance, stdev\n",
        "\n",
        "# Task 2: Define a new dataset (e.g., heights of students in a class)\n",
        "height_data = [160, 165, 170, 155, 175, 168, 162, 172, 160, 165]\n",
        "\n",
        "# Task 3: Calculate the mean (average) height using the mean function\n",
        "mean_height = mean(height_data)\n",
        "print(\"Mean (Average) Height:\", mean_height)\n",
        "\n",
        "# Task 4: Calculate the median (middle value) height using the median function\n",
        "median_height = median(height_data)\n",
        "print(\"Median Height:\", median_height)\n",
        "\n",
        "# Task 5: Calculate the mode (most common value) height using the mode function\n",
        "\n",
        "# Task 6: Calculate the variance of heights using the variance function\n",
        "\n",
        "# Task 7: Calculate the standard deviation of heights using the stdev function\n",
        "\n",
        "# Task 8: Print the calculated statistical measures with explanations\n",
        "\n",
        "#Task 9: If you drive from point A to point B at 60 miles per hour and return from point B to point A at 30 miles per hour, what is your average speed for the entire trip?\n",
        "\n",
        "print(\"Data:\", height_data)\n",
        "print(\"--------------------------------------\")\n",
        "# Print the mean (average) height\n",
        "print(\"Mean (Average) Height:\" + str(mean_height))\n",
        "# Print the median (middle value) height\n",
        "print(\"Median Height:\")\n",
        "# Print the mode (most common value) height\n",
        "print(\"Mode Height:\")\n",
        "# Print the variance of heights\n",
        "print(\"Variance of Heights:\")\n",
        "# Print the standard deviation of heights\n",
        "print(\"Standard Deviation of Heights:\")\n",
        "# Print the average speed for the entire trip\n",
        "print(\"Average Speed for the Trip:\")\n",
        "\n"
      ],
      "metadata": {
        "id": "gtS6JXqFigTa",
        "colab": {
          "base_uri": "https://localhost:8080/"
        },
        "outputId": "919c3c2f-0ab9-4e3d-e7d3-20e723e48b6f"
      },
      "execution_count": null,
      "outputs": [
        {
          "output_type": "stream",
          "name": "stdout",
          "text": [
            "Mean (Average) Height: 165.2\n",
            "Median Height: 165.0\n",
            "Data: [160, 165, 170, 155, 175, 168, 162, 172, 160, 165]\n",
            "--------------------------------------\n",
            "Mean (Average) Height:165.2\n",
            "Median Height:\n",
            "Mode Height:\n",
            "Variance of Heights:\n",
            "Standard Deviation of Heights:\n",
            "Average Speed for the Trip:\n"
          ]
        }
      ]
    },
    {
      "cell_type": "markdown",
      "source": [
        "##Discuss your findings below:\n"
      ],
      "metadata": {
        "id": "imimGXDUwf6J"
      }
    },
    {
      "cell_type": "markdown",
      "source": [
        "Discuss here..."
      ],
      "metadata": {
        "id": "1YuiJQgGiNHu"
      }
    },
    {
      "cell_type": "markdown",
      "source": [
        "#Statistical significance analysis\n",
        "###In this part, we will explore statistical significance analysis using the context of student performance. This includes performing a t-test, calculating p-values, and understanding z-scores\n",
        "\n",
        "###We will evaluate whether a new teaching method significantly improves students' test scores compared to the old method.\n",
        "\n",
        "students' scores before = [70, 75, 60, 55, 45, 85, 88, 77, 58, 88]\n",
        "\n",
        "students' scores after = [75, 80, 85, 90, 65, 95, 89, 85, 60, 90]\n",
        "\n",
        "#T-Test\n",
        "The t-test is a statistical test used to compare the means of two groups to see if they are significantly different. It uses the t-distribution to account for variability in sample sizes. It is measured by p-value\n",
        "\n",
        "\n",
        "###p-value\n",
        "\n",
        "p-Value\n",
        "The p-value helps us figure out how confident we can be about the difference we see in our test results.\n",
        "\n",
        "If the p-value is very small (usually less than 0.05), it means we can be pretty sure that the difference we see is real and not just by chance.\n",
        "\n",
        "If the p-value is larger than 0.05, it means the difference might just be random, and we can't be very sure it's due to our new teaching method.\n",
        "\n",
        "In our case with the teaching method, the p-value tells us how certain we are that the improvement in scores is really because of the new method and not just luck."
      ],
      "metadata": {
        "id": "Bey_Oh3q3A_g"
      }
    },
    {
      "cell_type": "code",
      "source": [
        "import statistics as stats\n",
        "import numpy as np\n",
        "from scipy import stats as scipy_stats\n",
        "\n",
        "# Students' scores before and after using the new method\n",
        "scores_before = [70, 75, 60, 55, 45, 85, 88, 77, 58, 88]\n",
        "scores_after = [75, 80, 85, 90, 65, 95, 89, 85, 60, 90]\n",
        "\n",
        "# Perform a paired t-test\n",
        "t_statistic, p_value = scipy_stats.ttest_rel(scores_after, scores_before)\n",
        "\n",
        "# Calculate means and standard deviations\n",
        "mean_before = stats.mean(scores_before)\n",
        "std_dev_before = stats.stdev(scores_before)\n",
        "mean_after = stats.mean(scores_after)\n",
        "std_dev_after = stats.stdev(scores_after)\n",
        "\n",
        "# Calculate z-scores\n",
        "z_scores_before = [(score - mean_before) / std_dev_before for score in scores_before]\n",
        "z_scores_after = [(score - mean_after) / std_dev_after for score in scores_after]\n",
        "\n",
        "# Results\n",
        "print(\"T-Statistic:\", t_statistic)\n",
        "print(\"P-Value:\", p_value)\n",
        "print(\"Mean Scores Before:\", mean_before)\n",
        "print(\"Standard Deviation Before:\", std_dev_before)\n",
        "print(\"Z-Scores Before:\", z_scores_before)\n",
        "print(\"Mean Scores After:\", mean_after)\n",
        "print(\"Standard Deviation After:\", std_dev_after)\n",
        "print(\"Z-Scores After:\", z_scores_after)\n"
      ],
      "metadata": {
        "colab": {
          "base_uri": "https://localhost:8080/"
        },
        "id": "KzviLi1L9LOj",
        "outputId": "a541e3dc-7c14-43e9-add8-41fb1bcdba06"
      },
      "execution_count": null,
      "outputs": [
        {
          "output_type": "stream",
          "name": "stdout",
          "text": [
            "T-Statistic: 3.0996735185734767\n",
            "P-Value: 0.01272916034943612\n",
            "Mean Scores Before: 70.1\n",
            "Standard Deviation Before: 15.058773743790251\n",
            "Z-Scores Before: [-0.006640646954485989, 0.32539170076983237, -0.6707053424031227, -1.002737690127441, -1.6668023855760778, 0.989456396218469, 1.1886758048530601, 0.4582046398595597, -0.8035182814928501, 1.1886758048530601]\n",
            "Mean Scores After: 81.4\n",
            "Standard Deviation After: 11.481385901633226\n",
            "Z-Scores After: [-0.5574239952242704, -0.12193649895530954, 0.3135509973136514, 0.7490384935826123, -1.4283989877621923, 1.1845259898515732, 0.66194099432882, 0.3135509973136514, -1.863886484031153, 0.7490384935826123]\n"
          ]
        }
      ]
    },
    {
      "cell_type": "markdown",
      "source": [
        "#Why is the T-Test Important in Data analysis"
      ],
      "metadata": {
        "id": "AQU1hq4X9kQu"
      }
    },
    {
      "cell_type": "markdown",
      "source": [],
      "metadata": {
        "id": "YYdqpZCb2-Hi"
      }
    }
  ]
}