{
  "cells": [
    {
      "cell_type": "markdown",
      "metadata": {
        "id": "view-in-github",
        "colab_type": "text"
      },
      "source": [
        "<a href=\"https://colab.research.google.com/github/FrankMgb/COSC-1437Project-7-Midterm/blob/main/5_workshop_day_2_analysis.ipynb\" target=\"_parent\"><img src=\"https://colab.research.google.com/assets/colab-badge.svg\" alt=\"Open In Colab\"/></a>"
      ]
    },
    {
      "cell_type": "markdown",
      "metadata": {
        "id": "EMtzqAekWgMg"
      },
      "source": [
        "##First, we will need to upload the data from Google Drive"
      ]
    },
    {
      "cell_type": "code",
      "execution_count": null,
      "metadata": {
        "colab": {
          "base_uri": "https://localhost:8080/",
          "height": 104
        },
        "id": "UPDr56LtWlRn",
        "outputId": "5d2bd5a6-879c-4d15-bde6-d990b5896b86"
      },
      "outputs": [
        {
          "output_type": "stream",
          "name": "stderr",
          "text": [
            "Downloading...\n",
            "From: https://drive.google.com/uc?id=1820cTzLBkyQLoJ9YngYu7KAw2gtPZF3O\n",
            "To: /content/depression_data_cleaned.csv\n",
            "100%|██████████| 5.36M/5.36M [00:00<00:00, 120MB/s]\n"
          ]
        },
        {
          "output_type": "execute_result",
          "data": {
            "text/plain": [
              "'depression_data_cleaned.csv'"
            ],
            "application/vnd.google.colaboratory.intrinsic+json": {
              "type": "string"
            }
          },
          "metadata": {},
          "execution_count": 1
        }
      ],
      "source": [
        "try:\n",
        "    import gdown\n",
        "except ImportError:\n",
        "    !pip install gdown\n",
        "    import gdown\n",
        "import gdown\n",
        "\n",
        "# File ID from your Google Drive link\n",
        "file_id = '1820cTzLBkyQLoJ9YngYu7KAw2gtPZF3O'\n",
        "# URL to download the file\n",
        "url = f'https://drive.google.com/uc?id={file_id}'\n",
        "\n",
        "# Download the file\n",
        "output = 'depression_data_cleaned.csv'  # Specify the output file name\n",
        "gdown.download(url, output, quiet=False)"
      ]
    },
    {
      "cell_type": "markdown",
      "metadata": {
        "id": "LsjONstsgdB5"
      },
      "source": [
        "Import necessary libraries"
      ]
    },
    {
      "cell_type": "code",
      "execution_count": null,
      "metadata": {
        "id": "G0O583Uagezr"
      },
      "outputs": [],
      "source": [
        "import pandas as pd #This line imports the pandas library, which is used for data manipulation and analysis."
      ]
    },
    {
      "cell_type": "markdown",
      "metadata": {
        "id": "X1HqDP5VglVe"
      },
      "source": [
        "Load the dataset"
      ]
    },
    {
      "cell_type": "code",
      "execution_count": null,
      "metadata": {
        "id": "wTh5CucygmtI"
      },
      "outputs": [],
      "source": [
        "file_path = 'depression_data_cleaned.csv' #the data is comma-seperated text (Comma Seperate Values) format\n",
        "data = pd.read_csv(file_path)"
      ]
    },
    {
      "cell_type": "markdown",
      "metadata": {
        "id": "vUm5WSt1W5Rb"
      },
      "source": [
        "##Analyzing demographic information"
      ]
    },
    {
      "cell_type": "code",
      "execution_count": null,
      "metadata": {
        "colab": {
          "base_uri": "https://localhost:8080/"
        },
        "id": "UWIuLAZhXKOB",
        "outputId": "3ba4eda7-d5d8-4ebd-a295-ba1c348373c7"
      },
      "outputs": [
        {
          "output_type": "stream",
          "name": "stdout",
          "text": [
            "Total number of participants: 39773\n",
            "Number of unique countries: 146\n",
            "\n",
            "Gender distribution:\n",
            "Number of male participants: 8789 ( 22.14 %)\n",
            "Number of female participants: 30365 ( 76.47 %)\n",
            "Number of other participants: 552 ( 1.39 %)\n",
            "\n",
            "Race distribution:\n",
            "Number of Asian participants: 23104\n",
            "Number of White participants: 10659\n",
            "Number of Other participants: 4832\n",
            "Number of Black participants: 603\n",
            "Number of Arab participants: 333\n",
            "Number of Native American participants: 220\n",
            "Number of Indigenous Australian participants: 22\n",
            "\n",
            "Marital status distribution:\n",
            "Number of Never married participants: 34130\n",
            "Number of Currently married participants: 4356\n",
            "Number of Previously married participants: 1092\n",
            "\n",
            "Handedness distribution:\n",
            "Number of Right handed participants: 34740\n",
            "Number of Left handed participants: 4171\n",
            "Number of Both handed participants: 689\n",
            "Invalid hand code 0 or missing data\n",
            "\n",
            "Religion distribution:\n",
            "Number of Unknown participants: 356\n",
            "Number of Agnostic participants: 3245\n",
            "Number of Atheist participants: 3845\n",
            "Number of Buddhist participants: 527\n",
            "Number of Christian (Catholic) participants: 3097\n",
            "Number of Christian (Mormon) participants: 122\n",
            "Number of Christian (Protestant) participants: 1544\n",
            "Number of Christian (Other) participants: 2254\n",
            "Number of Hindu participants: 700\n",
            "Number of Jewish participants: 144\n",
            "Number of Muslim participants: 22071\n",
            "Number of Sikh participants: 64\n",
            "Number of Other participants: 1804\n",
            "\n",
            "English as native language distribution:\n",
            "Number of native English speakers (Unknown): 52\n",
            "Number of native English speakers (Yes): 14380\n",
            "Number of native English speakers (No): 25341\n",
            "\n",
            "Age group distribution:\n",
            "Number of participants aged 10 years and below: 0\n",
            "Number of participants aged 11-16 years: 4960\n",
            "Number of participants aged 17-21 years: 16189\n",
            "Number of participants aged 22-35 years: 15388\n",
            "Number of participants aged 36-48 years: 2082\n",
            "Number of participants aged 49 years and above: 1154\n"
          ]
        }
      ],
      "source": [
        "# Display basic information about the dataset\n",
        "print(\"Total number of participants:\", len(data))\n",
        "\n",
        "unique_countries = data['country'].unique()\n",
        "num_unique_countries = len(unique_countries)\n",
        "print(\"Number of unique countries:\", num_unique_countries)\n",
        "\n",
        "# Gender distribution\n",
        "gender_counts = data['gender'].value_counts()\n",
        "num_male = gender_counts.get(1, 0)\n",
        "num_female = gender_counts.get(2, 0)\n",
        "num_other = gender_counts.get(3, 0)\n",
        "total_gender = num_male + num_female + num_other\n",
        "male_perc = (num_male / total_gender) * 100\n",
        "female_perc = (num_female / total_gender) * 100\n",
        "other_perc = (num_other / total_gender) * 100\n",
        "\n",
        "print(\"\\nGender distribution:\")\n",
        "print(\"Number of male participants:\", num_male, \"(\", round(male_perc, 2), \"%)\")\n",
        "print(\"Number of female participants:\", num_female, \"(\", round(female_perc, 2), \"%)\")\n",
        "print(\"Number of other participants:\", num_other, \"(\", round(other_perc, 2), \"%)\")\n",
        "\n",
        "# Race distribution\n",
        "race_counts = data['race'].value_counts()\n",
        "race_labels = {\n",
        "    1: 'Asian',\n",
        "    2: 'Arab',\n",
        "    3: 'Black',\n",
        "    4: 'Indigenous Australian',\n",
        "    5: 'Native American',\n",
        "    6: 'White',\n",
        "    7: 'Other'\n",
        "}\n",
        "\n",
        "print(\"\\nRace distribution:\")\n",
        "for race_code in race_counts.keys():\n",
        "    count = race_counts.get(race_code, 0)\n",
        "    print(f\"Number of {race_labels.get(race_code, 'Unknown')} participants:\", count)\n",
        "\n",
        "# Marital status distribution\n",
        "marital_counts = data['married'].value_counts()\n",
        "\n",
        "print(\"\\nMarital status distribution:\")\n",
        "for status_code, count in marital_counts.items():\n",
        "    if status_code == 1:\n",
        "        print(\"Number of Never married participants:\", count)\n",
        "    elif status_code == 2:\n",
        "        print(\"Number of Currently married participants:\", count)\n",
        "    elif status_code == 3:\n",
        "        print(\"Number of Previously married participants:\", count)\n",
        "\n",
        "# Handedness distribution\n",
        "hand_counts = data['hand'].value_counts()\n",
        "hand_labels = {\n",
        "    1: 'Right',\n",
        "    2: 'Left',\n",
        "    3: 'Both'\n",
        "}\n",
        "\n",
        "print(\"\\nHandedness distribution:\")\n",
        "for hand_code in hand_counts.keys():\n",
        "    if hand_code in hand_labels:\n",
        "        print(f\"Number of {hand_labels[hand_code]} handed participants:\", hand_counts[hand_code])\n",
        "    else:\n",
        "        print(f\"Invalid hand code {hand_code} or missing data\")\n",
        "\n",
        "# Religion distribution\n",
        "religion_counts = data['religion'].value_counts()\n",
        "religion_labels = {\n",
        "    1: 'Agnostic',\n",
        "    2: 'Atheist',\n",
        "    3: 'Buddhist',\n",
        "    4: 'Christian (Catholic)',\n",
        "    5: 'Christian (Mormon)',\n",
        "    6: 'Christian (Protestant)',\n",
        "    7: 'Christian (Other)',\n",
        "    8: 'Hindu',\n",
        "    9: 'Jewish',\n",
        "    10: 'Muslim',\n",
        "    11: 'Sikh',\n",
        "    12: 'Other'\n",
        "}\n",
        "\n",
        "print(\"\\nReligion distribution:\")\n",
        "for religion_code in sorted(religion_counts.keys()):  # Sort keys for consistent output\n",
        "    print(f\"Number of {religion_labels.get(religion_code, 'Unknown')} participants:\", religion_counts[religion_code])\n",
        "\n",
        "# English as native language distribution\n",
        "engnat_counts = data['engnat'].value_counts()\n",
        "engnat_labels = {\n",
        "    1: 'Yes',\n",
        "    2: 'No'\n",
        "}\n",
        "\n",
        "print(\"\\nEnglish as native language distribution:\")\n",
        "for engnat_code in sorted(engnat_counts.keys()):  # Sort keys for consistent output\n",
        "    print(f\"Number of native English speakers ({engnat_labels.get(engnat_code, 'Unknown')}):\", engnat_counts[engnat_code])\n",
        "\n",
        "# Age group distribution (assuming 'agegroup' column already exists with values 1-6)\n",
        "agegroup_counts = data['age_group'].value_counts()\n",
        "\n",
        "age_groups = {\n",
        "    1: '10 years and below',\n",
        "    2: '11-16 years',\n",
        "    3: '17-21 years',\n",
        "    4: '22-35 years',\n",
        "    5: '36-48 years',\n",
        "    6: '49 years and above'\n",
        "}\n",
        "\n",
        "print(\"\\nAge group distribution:\")\n",
        "for age_code in range(1, 7):  # Iterate over predefined age group codes 1 to 6\n",
        "    count = agegroup_counts.get(age_code, 0)\n",
        "    print(f\"Number of participants aged {age_groups.get(age_code, 'Unknown')}:\", count)\n"
      ]
    }
  ],
  "metadata": {
    "colab": {
      "provenance": [],
      "include_colab_link": true
    },
    "kernelspec": {
      "display_name": "Python 3",
      "name": "python3"
    },
    "language_info": {
      "name": "python"
    }
  },
  "nbformat": 4,
  "nbformat_minor": 0
}