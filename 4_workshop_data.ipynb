{
  "nbformat": 4,
  "nbformat_minor": 0,
  "metadata": {
    "colab": {
      "provenance": []
    },
    "kernelspec": {
      "name": "python3",
      "display_name": "Python 3"
    },
    "language_info": {
      "name": "python"
    }
  },
  "cells": [
    {
      "cell_type": "markdown",
      "source": [
        "#Getting familiar with the data\n",
        "In this session, we will explore the dataset in detail. We will examine the number of records, the number of variables, and the attributes present in the dataset. Please make sure the dataset (depression_data_cleaned.csv) is uploaded to Google Colab."
      ],
      "metadata": {
        "id": "1zw6vyf6nisD"
      }
    },
    {
      "cell_type": "markdown",
      "source": [
        "##First we will need to upload the dataset from Google Drive."
      ],
      "metadata": {
        "id": "pnoHFGs-SLG8"
      }
    },
    {
      "cell_type": "code",
      "source": [
        "try:\n",
        "    import gdown\n",
        "except ImportError:\n",
        "    !pip install gdown\n",
        "    import gdown\n",
        "import gdown\n",
        "\n",
        "# File ID from your Google Drive link\n",
        "file_id = '1820cTzLBkyQLoJ9YngYu7KAw2gtPZF3O'\n",
        "# URL to download the file\n",
        "url = f'https://drive.google.com/uc?id={file_id}'\n",
        "\n",
        "# Download the file\n",
        "output = 'depression_data_cleaned.csv'  # Specify the output file name\n",
        "gdown.download(url, output, quiet=False)"
      ],
      "metadata": {
        "id": "RIHNCuH4R1wE",
        "colab": {
          "base_uri": "https://localhost:8080/",
          "height": 104
        },
        "outputId": "e523af32-f08d-4249-82ff-7dfa55df1a5e"
      },
      "execution_count": null,
      "outputs": [
        {
          "output_type": "stream",
          "name": "stderr",
          "text": [
            "Downloading...\n",
            "From: https://drive.google.com/uc?id=1820cTzLBkyQLoJ9YngYu7KAw2gtPZF3O\n",
            "To: /content/depression_data_cleaned.csv\n",
            "100%|██████████| 5.36M/5.36M [00:00<00:00, 27.9MB/s]\n"
          ]
        },
        {
          "output_type": "execute_result",
          "data": {
            "text/plain": [
              "'depression_data_cleaned.csv'"
            ],
            "application/vnd.google.colaboratory.intrinsic+json": {
              "type": "string"
            }
          },
          "metadata": {},
          "execution_count": 3
        }
      ]
    },
    {
      "cell_type": "markdown",
      "source": [
        "Import necessary libraries:"
      ],
      "metadata": {
        "id": "1cNxOu3AFJoK"
      }
    },
    {
      "cell_type": "code",
      "source": [
        "import pandas as pd #This line imports the pandas library, which is used for data manipulation and analysis."
      ],
      "metadata": {
        "id": "PuWuGKgxFdQ9"
      },
      "execution_count": null,
      "outputs": []
    },
    {
      "cell_type": "markdown",
      "source": [
        "Load the dataset:"
      ],
      "metadata": {
        "id": "wlw1uD9BFf21"
      }
    },
    {
      "cell_type": "code",
      "source": [
        "file_path = 'depression_data_cleaned.csv' #the data is comma-seperated text (Comma Seperate Values) format\n",
        "data = pd.read_csv(file_path)"
      ],
      "metadata": {
        "id": "O6rLRHc0FqQc"
      },
      "execution_count": null,
      "outputs": []
    },
    {
      "cell_type": "markdown",
      "source": [
        "Display the first row of the dataset"
      ],
      "metadata": {
        "id": "uUVopfHPFzxT"
      }
    },
    {
      "cell_type": "code",
      "source": [
        "print(\"First few rows of the dataset:\")\n",
        "print(data.head())"
      ],
      "metadata": {
        "id": "9Eo32lOPF1gJ"
      },
      "execution_count": null,
      "outputs": []
    },
    {
      "cell_type": "markdown",
      "source": [
        "Display the number of records (rows) in the dataset:"
      ],
      "metadata": {
        "id": "hUyjM5XQF_oI"
      }
    },
    {
      "cell_type": "code",
      "source": [
        "num_records = data.shape[0] #returns the number of rows/num_records in the dataset\n",
        "num_columns = data.shape[1] #returns the number of columns in the dataset\n",
        "print(\"\\nNumber of records (rows) in the dataset:\", num_records)\n",
        "print(\"\\nNumber of columns in the dataset:\", num_columns)"
      ],
      "metadata": {
        "colab": {
          "base_uri": "https://localhost:8080/"
        },
        "id": "IkNrwRV0GBo4",
        "outputId": "caef36bc-e1ef-4a24-b7ac-cca50e2cbe9d"
      },
      "execution_count": null,
      "outputs": [
        {
          "output_type": "stream",
          "name": "stdout",
          "text": [
            "\n",
            "Number of records (rows) in the dataset: 39773\n",
            "\n",
            "Number of columns in the dataset: 66\n"
          ]
        }
      ]
    },
    {
      "cell_type": "markdown",
      "source": [
        "##Now take a moment to look the .CSV file"
      ],
      "metadata": {
        "id": "j8S8iErcGyKg"
      }
    },
    {
      "cell_type": "markdown",
      "source": [
        "Count the number of patients with depression (1) and those without depression (0) in the \"depressed\" column:"
      ],
      "metadata": {
        "id": "RAAWq1YxG7qn"
      }
    },
    {
      "cell_type": "code",
      "source": [
        "# Initialize counts\n",
        "num_depressed = 0\n",
        "num_not_depressed = 0\n",
        "\n",
        "# Counting the number of patients with depression (1) and without depression (0); The last column in the dataset\n",
        "for value in data['depressed']:\n",
        "    if value == 1:\n",
        "        num_depressed += 1\n",
        "    elif value == 0:\n",
        "        num_not_depressed += 1\n",
        "\n",
        "# Print the counts\n",
        "print(\"Number of depressed patients:\", num_depressed)\n",
        "print(\"Number of non-depressed patients:\", num_not_depressed)"
      ],
      "metadata": {
        "colab": {
          "base_uri": "https://localhost:8080/"
        },
        "id": "JHLm7m9kG3qX",
        "outputId": "13c056e7-bd99-44a2-834b-badaeb39b0fe"
      },
      "execution_count": null,
      "outputs": [
        {
          "output_type": "stream",
          "name": "stdout",
          "text": [
            "Number of depressed patients: 20017\n",
            "Number of non-depressed patients: 19756\n"
          ]
        }
      ]
    },
    {
      "cell_type": "markdown",
      "source": [
        "##Can you calculate the percentage of depressed and non-depressed patient? Add your code below and run to see the output."
      ],
      "metadata": {
        "id": "yLKd7mhRHjlJ"
      }
    },
    {
      "cell_type": "markdown",
      "source": [
        "Number of unique countries participated in the study"
      ],
      "metadata": {
        "id": "lTeFi7g_M11Q"
      }
    },
    {
      "cell_type": "code",
      "source": [
        "unique_countries = data['country'].unique()\n",
        "num_unique_countries = len(unique_countries)\n",
        "print(\"Number of unique countries:\", num_unique_countries)"
      ],
      "metadata": {
        "colab": {
          "base_uri": "https://localhost:8080/"
        },
        "id": "18NJDUTGPYM9",
        "outputId": "33af9fc3-9739-4acb-bdc8-8968a0394173"
      },
      "execution_count": null,
      "outputs": [
        {
          "output_type": "stream",
          "name": "stdout",
          "text": [
            "Number of unique countries: 146\n"
          ]
        }
      ]
    },
    {
      "cell_type": "code",
      "source": [],
      "metadata": {
        "id": "V-LYwYXbQNsW"
      },
      "execution_count": null,
      "outputs": []
    }
  ]
}