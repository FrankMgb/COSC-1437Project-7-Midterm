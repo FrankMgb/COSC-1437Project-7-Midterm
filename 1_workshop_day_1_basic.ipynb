{
  "nbformat": 4,
  "nbformat_minor": 0,
  "metadata": {
    "colab": {
      "provenance": [],
      "include_colab_link": true
    },
    "kernelspec": {
      "name": "python3",
      "display_name": "Python 3"
    },
    "language_info": {
      "name": "python"
    }
  },
  "cells": [
    {
      "cell_type": "markdown",
      "metadata": {
        "id": "view-in-github",
        "colab_type": "text"
      },
      "source": [
        "<a href=\"https://colab.research.google.com/github/FrankMgb/COSC-1437Project-7-Midterm/blob/main/1_workshop_day_1_basic.ipynb\" target=\"_parent\"><img src=\"https://colab.research.google.com/assets/colab-badge.svg\" alt=\"Open In Colab\"/></a>"
      ]
    },
    {
      "cell_type": "markdown",
      "source": [
        "# Day 1: Setting Up the Environment and Introduction to Data\n",
        "Welcome to Day 1! Today, we will:\n",
        "1. **Set up the environment:** Learn to use Google Colab and Python.\n",
        "2. **Load the dataset:** Understand the dataset we will work with.\n",
        "3. **Introduction to basic coding:** Write simple code to load and display data"
      ],
      "metadata": {
        "id": "4ffJ9U9mHZeW"
      }
    },
    {
      "cell_type": "markdown",
      "source": [
        "#Introduction to Python and Google Colab\n",
        "\n",
        "###What is Python?\n",
        "Python is a versatile, high-level programming language known for its readability and wide range of applications, from web development to data science and machine learning. Python's syntax is designed to be easy to understand and write, which makes it a popular choice for beginners and experts.\n",
        "\n",
        "- **Invented by:** Guido van Rossum\n",
        "- **First released:** 1991\n",
        "- **Key features:**\n",
        "  - Easy to read and write\n",
        "  - Extensive standard library and third-party modules\n",
        "  - Supports multiple programming paradigms (procedural, object-oriented, and functional programming)\n",
        "  - Widely used in web development, data analysis, artificial intelligence, scientific computing, automation, and more\n",
        "\n",
        "\n",
        "###What is Google Colab?\n",
        "Google Colab (Colaboratory) is a free, cloud-based platform provided by Google that allows you to write and run Python code in a Jupyter notebook environment directly in your browser. It requires no installation and provides access to powerful computational resources like GPUs and TPUs.\n",
        "\n",
        "- **Launched by:** Google Research\n",
        "- **Launch year:** 2017\n",
        "- **Key features:**\n",
        "  - **No setup required:** Everything runs in the cloud.\n",
        "  - **Free access to GPUs and TPUs:** For faster computations, especially useful for machine learning and data science tasks.\n",
        "  - **Seamless integration with Google Drive:** Easy saving and sharing of notebooks.\n",
        "  - **Real-time collaboration:** Work with others in real-time, similar to Google Docs.\n",
        "  - **Supports many Python libraries:** Pre-installed libraries such as TensorFlow, Keras, PyTorch, and more.\n",
        "  - **Interactive visualizations:** Create rich visualizations with libraries like Matplotlib, Seaborn, and Plotly.\n",
        "\n",
        "####Benefits of Google Colab\n",
        "\n",
        "- **No setup required**; everything runs in the cloud.\n",
        "- **Free access to GPUs and TPUs** for faster computations.\n",
        "- **Easy integration with Google Drive** for easy saving and sharing of notebooks.\n",
        "- **Real-time collaboration with others**, you can share the notebook with others and others can contribute/work on the notebook."
      ],
      "metadata": {
        "id": "TyztoJoT3IJh"
      }
    },
    {
      "cell_type": "markdown",
      "source": [],
      "metadata": {
        "id": "eZkFAeKRbZkK"
      }
    },
    {
      "cell_type": "markdown",
      "source": [
        "## Create your own Colab Notebook\n",
        "Please click the link below to start:\n",
        "https://colab.research.google.com/"
      ],
      "metadata": {
        "id": "gCChENb7H534"
      }
    },
    {
      "cell_type": "code",
      "source": [],
      "metadata": {
        "id": "YwMHNUAQmZx6"
      },
      "execution_count": null,
      "outputs": []
    },
    {
      "cell_type": "markdown",
      "source": [
        "#Write your first python programs"
      ],
      "metadata": {
        "id": "E2L9l7yFAcvG"
      }
    },
    {
      "cell_type": "markdown",
      "source": [
        "1. Write a program to print a message"
      ],
      "metadata": {
        "id": "QGebJjaFHval"
      }
    },
    {
      "cell_type": "code",
      "source": [
        "# This is a simple \"Hello World\" program in Python\n",
        "print(\"Hello, World!\")"
      ],
      "metadata": {
        "colab": {
          "base_uri": "https://localhost:8080/"
        },
        "id": "0SssZuSOAlYO",
        "outputId": "2ee443c9-1b67-4234-f99c-3b3f92df29c4"
      },
      "execution_count": null,
      "outputs": [
        {
          "output_type": "stream",
          "name": "stdout",
          "text": [
            "Hello, World!\n"
          ]
        }
      ]
    },
    {
      "cell_type": "code",
      "source": [
        "print(\"Welcome everyone!\")"
      ],
      "metadata": {
        "colab": {
          "base_uri": "https://localhost:8080/"
        },
        "id": "69lNlbe_mKRE",
        "outputId": "c8a52722-4f50-452f-9994-c467581bb2c4"
      },
      "execution_count": null,
      "outputs": [
        {
          "output_type": "stream",
          "name": "stdout",
          "text": [
            "Welcome everyone!\n"
          ]
        }
      ]
    },
    {
      "cell_type": "markdown",
      "source": [
        "2. Write a program to add two numbers"
      ],
      "metadata": {
        "id": "cWMNY9_FGH97"
      }
    },
    {
      "cell_type": "code",
      "source": [
        "# This program calculates the sum of two numbers\n",
        "\n",
        "# Define the two numbers\n",
        "number1 = 3\n",
        "number2 = 7\n",
        "\n",
        "# Calculate the sum\n",
        "sum_result = number1 + number2\n",
        "\n",
        "# Print the result\n",
        "print(\"The sum of\", number1, \"and\", number2, \"is:\", sum_result)"
      ],
      "metadata": {
        "id": "zPevii6UGMKQ",
        "colab": {
          "base_uri": "https://localhost:8080/"
        },
        "outputId": "27a5d211-0942-4a91-baeb-9d929c69ffc8"
      },
      "execution_count": null,
      "outputs": [
        {
          "output_type": "stream",
          "name": "stdout",
          "text": [
            "The sum of 3 and 7 is: 10\n"
          ]
        }
      ]
    },
    {
      "cell_type": "markdown",
      "source": [
        "3. Write a program to take input from the user and print the output"
      ],
      "metadata": {
        "id": "LlLLOSn-F9TY"
      }
    },
    {
      "cell_type": "code",
      "source": [
        "# This program takes your name as input and prints a greeting\n",
        "\n",
        "# Ask the user for their name\n",
        "name = input(\"Enter your name: \")\n",
        "\n",
        "# Print a greeting\n",
        "print(\"Hello, \" + name + \"!\")\n"
      ],
      "metadata": {
        "id": "TNRLpQEcGRNs"
      },
      "execution_count": null,
      "outputs": []
    },
    {
      "cell_type": "code",
      "source": [],
      "metadata": {
        "id": "I_oK3b4ezt5Y"
      },
      "execution_count": null,
      "outputs": []
    },
    {
      "cell_type": "code",
      "source": [
        "name = input(\"Enter your name: \")\n",
        "print(\"Hello, \" + name + \"!\")"
      ],
      "metadata": {
        "colab": {
          "base_uri": "https://localhost:8080/"
        },
        "id": "D8XXdhJizVh4",
        "outputId": "945d97aa-e940-4d5b-ab1b-c119755acb6d"
      },
      "execution_count": null,
      "outputs": [
        {
          "output_type": "stream",
          "name": "stdout",
          "text": [
            "Enter your name: name\n",
            "Hello, name!\n"
          ]
        }
      ]
    },
    {
      "cell_type": "code",
      "source": [],
      "metadata": {
        "id": "QJdP0pLkzVgU"
      },
      "execution_count": null,
      "outputs": []
    },
    {
      "cell_type": "markdown",
      "source": [
        "4. Write a program to input\n",
        "- your place of birth\n",
        "- your hobbies"
      ],
      "metadata": {
        "id": "y91IQPgKGsiu"
      }
    },
    {
      "cell_type": "code",
      "source": [
        "# This program takes your name as input and prints a greeting\n",
        "\n",
        "# Ask the user for their name\n",
        "birthPlace = input(\"Enter your place of birth: \")\n",
        "hobbies = input(\"Enter your hobbies: \")\n",
        "\n",
        "# Print a greeting\n",
        "print(\"Place of birth: \" + birthPlace)\n",
        "print(\"My hobbies: \" + hobbies)"
      ],
      "metadata": {
        "colab": {
          "base_uri": "https://localhost:8080/"
        },
        "id": "MySG8mzGrNwW",
        "outputId": "751951e8-6936-4809-eeee-8b181444a29e"
      },
      "execution_count": null,
      "outputs": [
        {
          "output_type": "stream",
          "name": "stdout",
          "text": [
            "Enter your place of birth: Bangladesh\n",
            "Enter your hobbies: Gardening, reading\n",
            "Place of birth: Bangladesh\n",
            "My hobbies: Gardening, reading\n"
          ]
        }
      ]
    },
    {
      "cell_type": "markdown",
      "source": [
        "5. Write a program to perform basic arithmatic operations"
      ],
      "metadata": {
        "id": "HR0KKayPHdEc"
      }
    },
    {
      "cell_type": "code",
      "source": [
        "# This program demonstrates basic arithmetic operations\n",
        "\n",
        "# Define two numbers\n",
        "a = 10\n",
        "b = 3\n",
        "\n",
        "# Perform arithmetic operations\n",
        "addition = a + b\n",
        "subtraction = a - b\n",
        "multiplication = a * b\n",
        "division = a / b\n",
        "modulus = a % b\n",
        "\n",
        "# Print the results\n",
        "print(\"Addition:\", addition)\n",
        "print(\"Subtraction:\", subtraction)\n",
        "print(\"Multiplication:\", multiplication)\n",
        "print(\"Division:\", division)\n",
        "print(\"Modulus:\", modulus)"
      ],
      "metadata": {
        "id": "SMvaO3RhHgPS"
      },
      "execution_count": null,
      "outputs": []
    },
    {
      "cell_type": "markdown",
      "source": [
        "6. Write a program to check if a number is positive or negative"
      ],
      "metadata": {
        "id": "mTt3c2BvIspN"
      }
    },
    {
      "cell_type": "code",
      "source": [
        "# This program checks if a number is positive, negative, or zero\n",
        "\n",
        "# Define a number\n",
        "number = 5\n",
        "\n",
        "# Check if the number is positive, negative, or zero\n",
        "if number > 0:\n",
        "    print(\"The number is positive.\")\n",
        "elif number < 0:\n",
        "    print(\"The number is negative.\")\n",
        "else:\n",
        "    print(\"The number is zero.\")"
      ],
      "metadata": {
        "colab": {
          "base_uri": "https://localhost:8080/"
        },
        "id": "tWQW1uIWIz1E",
        "outputId": "5fd7b79f-cc05-4b00-b035-1a370c67bfae"
      },
      "execution_count": null,
      "outputs": [
        {
          "output_type": "stream",
          "name": "stdout",
          "text": [
            "The number is positive.\n"
          ]
        }
      ]
    }
  ]
}